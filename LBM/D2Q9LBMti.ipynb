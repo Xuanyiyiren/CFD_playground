{
 "cells": [
  {
   "cell_type": "markdown",
   "id": "5fbae13c",
   "metadata": {},
   "source": [
    "# D2Q9\n",
    "\n",
    "Mainly reference : https://youtu.be/JFWqCQHg-Hs\n",
    "\n",
    "![alt text](figs/d2q9.svg)"
   ]
  },
  {
   "cell_type": "markdown",
   "id": "52b9cc3f",
   "metadata": {},
   "source": [
    "Lattice Bolztmann Equation:\n",
    "\n",
    "$$\n",
    "\n",
    "$$"
   ]
  },
  {
   "cell_type": "code",
   "execution_count": null,
   "id": "41354793",
   "metadata": {},
   "outputs": [],
   "source": [
    "import taichi as ti"
   ]
  }
 ],
 "metadata": {
  "kernelspec": {
   "display_name": "taichienvi_250811",
   "language": "python",
   "name": "python3"
  },
  "language_info": {
   "name": "python",
   "version": "3.12.7"
  }
 },
 "nbformat": 4,
 "nbformat_minor": 5
}
